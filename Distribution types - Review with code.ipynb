{
 "cells": [
  {
   "cell_type": "code",
   "execution_count": 1,
   "metadata": {},
   "outputs": [],
   "source": [
    "import pandas as pd\n",
    "import numpy as np\n",
    "import matplotlib.pyplot as plt\n",
    "import math\n",
    "from scipy.stats import binom, poisson"
   ]
  },
  {
   "cell_type": "markdown",
   "metadata": {},
   "source": [
    "# Summary"
   ]
  },
  {
   "cell_type": "markdown",
   "metadata": {},
   "source": [
    "#### Discrete Distributions:"
   ]
  },
  {
   "cell_type": "markdown",
   "metadata": {},
   "source": [
    "1. [Binomial Distribution](#Binomial-Distribution)\n",
    "2. [Bernoulli Distribution](#Bernoulli-Distribution)\n",
    "3. [Poisson Distribution](#Poisson-Distribution)"
   ]
  },
  {
   "cell_type": "markdown",
   "metadata": {},
   "source": [
    "#### Continuous Distributions:"
   ]
  },
  {
   "cell_type": "markdown",
   "metadata": {},
   "source": [
    "1. [Normal Distribution](#Normal-Distribution)"
   ]
  },
  {
   "cell_type": "markdown",
   "metadata": {},
   "source": [
    "# Binomial Distribution"
   ]
  },
  {
   "cell_type": "markdown",
   "metadata": {},
   "source": [
    "#### Mathematical Framework and variable definitions:\n",
    "- **n**: number of trials. Each trial has 2 events: **success** or **fail** (also called **Bernoulli Trial**).\n",
    "- **k**: number of succeeded trials within the total n of trials.\n",
    "- **X**: random variable of the number of succeeded trials.\n",
    "- **p**: percentage of success of each trial.\n",
    "- **P[X = k]**: probability of a random variable X being equal k.\n",
    "- **Sample Space = {0, 1, 2, 3, ..., n}**: there are n trials, however the possible values for the random variable X are within the range {0, 1, 2, 3, ..., n} (start from zero, because there is the possibility of not having any succeeded trial)."
   ]
  },
  {
   "cell_type": "markdown",
   "metadata": {},
   "source": [
    "The formula for the probability P[X = k] is shown below:"
   ]
  },
  {
   "cell_type": "markdown",
   "metadata": {},
   "source": [
    "\\begin{equation*}\n",
    "P[X = k]   = \\frac{n!}{k!(n-k)!} p^k (1-p)^{ n-k}\n",
    "\\end{equation*}"
   ]
  },
  {
   "cell_type": "markdown",
   "metadata": {},
   "source": [
    "#### Experiment:"
   ]
  },
  {
   "cell_type": "markdown",
   "metadata": {},
   "source": [
    "Here we can see an example of a random binomial distribution using **n = 5**, **p = 0.8** and **2000000** (2e6) samples. There were a total of **2000000*5 = 10000000 _trials_**, however this means 2000000 samples drawn from the binomial distribution."
   ]
  },
  {
   "cell_type": "code",
   "execution_count": 2,
   "metadata": {},
   "outputs": [
    {
     "data": {
      "image/png": "[encoded data removed]",
      "text/plain": [
       "<Figure size 432x288 with 1 Axes>"
      ]
     },
     "metadata": {
      "needs_background": "light"
     },
     "output_type": "display_data"
    },
    {
     "name": "stdout",
     "output_type": "stream",
     "text": [
      "P[X = 0] = 0.0317%\n",
      "P[X = 1] = 0.6349%\n",
      "P[X = 2] = 5.1145%\n",
      "P[X = 3] = 20.4612%\n",
      "P[X = 4] = 40.9560%\n",
      "P[X = 5] = 32.8018%\n"
     ]
    }
   ],
   "source": [
    "n, p, n_samples = 5, 0.8, int(2e6)\n",
    "samples = np.random.binomial(n=n, p=p, size=n_samples)\n",
    "plt.hist(samples, bins=100)\n",
    "plt.show()\n",
    "totals = np.zeros(shape=(n+1))\n",
    "for k in range(n+1):\n",
    "    totals[k] = (samples == k).sum()\n",
    "total = totals.sum()\n",
    "for k in range(n+1):\n",
    "    print(\"P[X = {}] = {:.4%}\".format(k, totals[k]/total))"
   ]
  },
  {
   "cell_type": "markdown",
   "metadata": {},
   "source": [
    "Also, we can see the probabilities that resulted from the experiment. Using the formula we can see the expected results below and compare with the experiment results:"
   ]
  },
  {
   "cell_type": "code",
   "execution_count": 3,
   "metadata": {},
   "outputs": [
    {
     "name": "stdout",
     "output_type": "stream",
     "text": [
      "P[X = 0] = 0.0320%\n",
      "P[X = 1] = 0.6400%\n",
      "P[X = 2] = 5.1200%\n",
      "P[X = 3] = 20.4800%\n",
      "P[X = 4] = 40.9600%\n",
      "P[X = 5] = 32.7680%\n"
     ]
    }
   ],
   "source": [
    "for k in range(n+1):\n",
    "    print(\"P[X = {}] = {:.4%}\".format(k, round(binom.pmf(k=k, n=n, p=p), 7)))"
   ]
  },
  {
   "cell_type": "markdown",
   "metadata": {},
   "source": [
    "Visual example of the formula with k = 0:"
   ]
  },
  {
   "cell_type": "markdown",
   "metadata": {},
   "source": [
    "\\begin{equation*}\n",
    "P[X = 0]   = \\frac{5!}{0!(5-0)!} 0.8^0 (1-0.8)^{ 5-0} = 0.032/100\n",
    "\\end{equation*}"
   ]
  },
  {
   "cell_type": "markdown",
   "metadata": {},
   "source": [
    "# Bernoulli Distribution"
   ]
  },
  {
   "cell_type": "markdown",
   "metadata": {},
   "source": [
    "The Bernoulli Distribution is a special case of the Binomial Distribution: when **n = 1**. So the sample space is **{0, 1}**."
   ]
  },
  {
   "cell_type": "markdown",
   "metadata": {},
   "source": [
    "\\begin{equation*}\n",
    "P[X = k]   = p^k (1-p)^{ 1-k}\n",
    "\\end{equation*}"
   ]
  },
  {
   "cell_type": "markdown",
   "metadata": {},
   "source": [
    "#### Experiment:"
   ]
  },
  {
   "cell_type": "markdown",
   "metadata": {},
   "source": [
    "Here we can see an example of a random Bernoulli distribution using **p = 0.5** (for example a coin toss) and **2000000** (2e6) samples. There were a total of **2000000 _trials_**, which is the number of samples drawn from the distribution."
   ]
  },
  {
   "cell_type": "code",
   "execution_count": 4,
   "metadata": {
    "scrolled": true
   },
   "outputs": [
    {
     "data": {
      "image/png": "[encoded data removed]",
      "text/plain": [
       "<Figure size 432x288 with 1 Axes>"
      ]
     },
     "metadata": {
      "needs_background": "light"
     },
     "output_type": "display_data"
    },
    {
     "name": "stdout",
     "output_type": "stream",
     "text": [
      "p[X = 0] = 49.9738%\n",
      "p[X = 1] = 50.0262%\n"
     ]
    }
   ],
   "source": [
    "n, p, n_samples = 1, 0.5, int(2e6)\n",
    "samples = np.random.binomial(n=n, p=p, size=n_samples)\n",
    "plt.hist(samples, bins=100)\n",
    "plt.show()\n",
    "totals = np.zeros(shape=(n+1))\n",
    "for k in range(n+1):\n",
    "    totals[k] = (samples == k).sum()\n",
    "total = totals.sum()\n",
    "for k in range(n+1):\n",
    "    print(\"p[X = {}] = {:.4%}\".format(k, totals[k]/total))"
   ]
  },
  {
   "cell_type": "code",
   "execution_count": 5,
   "metadata": {},
   "outputs": [
    {
     "name": "stdout",
     "output_type": "stream",
     "text": [
      "P[X = 0] = 50.0000%\n",
      "P[X = 1] = 50.0000%\n"
     ]
    }
   ],
   "source": [
    "for k in range(n+1):\n",
    "    print(\"P[X = {}] = {:.4%}\".format(k, round(binom.pmf(k=k, n=n, p=p), 7)))"
   ]
  },
  {
   "cell_type": "markdown",
   "metadata": {},
   "source": [
    "Visual example of the formula with k = 0:"
   ]
  },
  {
   "cell_type": "markdown",
   "metadata": {},
   "source": [
    "\\begin{equation*}\n",
    "P[X = 0]   = 0.5^0 (0.5)^{ 1-0} = 50/100\n",
    "\\end{equation*}"
   ]
  },
  {
   "cell_type": "markdown",
   "metadata": {},
   "source": [
    "# Poisson Distribution"
   ]
  },
  {
   "cell_type": "markdown",
   "metadata": {},
   "source": [
    "#### Mathematical Framework and variable definitions:"
   ]
  },
  {
   "cell_type": "markdown",
   "metadata": {},
   "source": [
    "It is a model used for **discrete series of events** when we know the **average time, area, volume** between the events. More generally, it can be used when we know the **average occurrence rate of the events per interval**, but the **exact unit of occurrence within the interval is random**."
   ]
  },
  {
   "cell_type": "markdown",
   "metadata": {},
   "source": [
    "- **λ**: average number of events in the interval.\n",
    "- **k**: number of occurrences within the interval.\n",
    "- **X**: random variable of the number of occurrences within the interval.\n",
    "- **P[X = k]**: probability of a random variable X being equal k.\n",
    "- **Sample Space = {0, 1, 2, 3, ..., ∞}**: the random variable X can have an infinite number of events."
   ]
  },
  {
   "cell_type": "markdown",
   "metadata": {},
   "source": [
    "Assumptions:\n",
    "\n",
    "- Events are independent of each other. The occurrence of one event does not affect the probability another event will occur.\n",
    "- The average rate (events per unit) is constant.\n",
    "- Two events cannot occur at the same time (or same unit - area, volume)."
   ]
  },
  {
   "cell_type": "markdown",
   "metadata": {},
   "source": [
    "The formula for the probability P[X = k] is shown below:"
   ]
  },
  {
   "cell_type": "markdown",
   "metadata": {},
   "source": [
    "\\begin{equation*}\n",
    "P[X = k]   = e^{-λ} \\frac{λ^{k}}{k!}\n",
    "\\end{equation*}"
   ]
  },
  {
   "cell_type": "markdown",
   "metadata": {},
   "source": [
    "#### Experiment:"
   ]
  },
  {
   "cell_type": "markdown",
   "metadata": {},
   "source": [
    "Here we can see an example of a Poisson distribution using **λ = 10** (for example 10 car accidents within 2 hours), and **2000000** (2e6) samples."
   ]
  },
  {
   "cell_type": "code",
   "execution_count": 6,
   "metadata": {},
   "outputs": [
    {
     "data": {
      "image/png": "[encoded data removed]",
      "text/plain": [
       "<Figure size 432x288 with 1 Axes>"
      ]
     },
     "metadata": {
      "needs_background": "light"
     },
     "output_type": "display_data"
    },
    {
     "name": "stdout",
     "output_type": "stream",
     "text": [
      "P[X = 0] = 0.0046%\n",
      "P[X = 1] = 0.0436%\n",
      "P[X = 2] = 0.2270%\n",
      "P[X = 3] = 0.7654%\n",
      "P[X = 4] = 1.8991%\n",
      "P[X = 5] = 3.7974%\n",
      "P[X = 6] = 6.3503%\n",
      "P[X = 7] = 9.0567%\n",
      "P[X = 8] = 11.2839%\n",
      "P[X = 9] = 12.5493%\n",
      "P[X = 10] = 12.5674%\n",
      "P[X = 11] = 11.4045%\n",
      "P[X = 12] = 9.4898%\n",
      "P[X = 13] = 7.3063%\n",
      "P[X = 14] = 5.2265%\n",
      "P[X = 15] = 3.4910%\n",
      "P[X = 16] = 2.1681%\n",
      "P[X = 17] = 1.2833%\n",
      "P[X = 18] = 0.7126%\n",
      "P[X = 19] = 0.3732%\n"
     ]
    }
   ],
   "source": [
    "lam, n_samples = 10, int(2e6)\n",
    "samples = np.random.poisson(lam=lam, size=n_samples)\n",
    "plt.hist(samples, bins=100)\n",
    "plt.show()\n",
    "totals = np.zeros(shape=(2*lam))\n",
    "for k in range(2*lam):\n",
    "    totals[k] = (samples == k).sum()\n",
    "total = totals.sum()\n",
    "for k in range(2*lam):\n",
    "    print(\"P[X = {}] = {:.4%}\".format(k, totals[k]/total))"
   ]
  },
  {
   "cell_type": "markdown",
   "metadata": {},
   "source": [
    "Also, we can see the probabilities that resulted from the experiment. Using the formula we can see the expected results below and compare with the experiment results:"
   ]
  },
  {
   "cell_type": "code",
   "execution_count": 7,
   "metadata": {},
   "outputs": [
    {
     "name": "stdout",
     "output_type": "stream",
     "text": [
      "P[X = 0] = 0.0045%\n",
      "P[X = 1] = 0.0454%\n",
      "P[X = 2] = 0.2270%\n",
      "P[X = 3] = 0.7567%\n",
      "P[X = 4] = 1.8917%\n",
      "P[X = 5] = 3.7833%\n",
      "P[X = 6] = 6.3056%\n",
      "P[X = 7] = 9.0079%\n",
      "P[X = 8] = 11.2599%\n",
      "P[X = 9] = 12.5110%\n",
      "P[X = 10] = 12.5110%\n",
      "P[X = 11] = 11.3736%\n",
      "P[X = 12] = 9.4780%\n",
      "P[X = 13] = 7.2908%\n",
      "P[X = 14] = 5.2077%\n",
      "P[X = 15] = 3.4718%\n",
      "P[X = 16] = 2.1699%\n",
      "P[X = 17] = 1.2764%\n",
      "P[X = 18] = 0.7091%\n",
      "P[X = 19] = 0.3732%\n"
     ]
    }
   ],
   "source": [
    "for k in range(2*lam):\n",
    "    print(\"P[X = {}] = {:.4%}\".format(k, round(poisson.pmf(k=k, mu=lam), 7)))"
   ]
  },
  {
   "cell_type": "markdown",
   "metadata": {},
   "source": [
    "Visual example of the formula with k = 0:"
   ]
  },
  {
   "cell_type": "markdown",
   "metadata": {},
   "source": [
    "\\begin{equation*}\n",
    "P[X = 0]   = e^{-10} \\frac{λ^{0}}{0!} = 0.0045/100\n",
    "\\end{equation*}"
   ]
  },
  {
   "cell_type": "markdown",
   "metadata": {},
   "source": [
    "Poisson Distribution is the Binomial Distribution with n -> ∞."
   ]
  },
  {
   "cell_type": "markdown",
   "metadata": {},
   "source": [
    "# Normal Distribution"
   ]
  },
  {
   "cell_type": "code",
   "execution_count": 8,
   "metadata": {},
   "outputs": [],
   "source": [
    "mu, sigma = 0, 1\n",
    "samples = np.random.normal(loc=mu, scale=sigma, size=1000)"
   ]
  },
  {
   "cell_type": "code",
   "execution_count": 9,
   "metadata": {},
   "outputs": [
    {
     "data": {
      "image/png": "[encoded data removed]",
      "text/plain": [
       "<Figure size 432x288 with 1 Axes>"
      ]
     },
     "metadata": {
      "needs_background": "light"
     },
     "output_type": "display_data"
    }
   ],
   "source": [
    "count, bins, ignored = plt.hist(samples, 50, density=True)\n",
    "plt.plot(bins, 1/(sigma * np.sqrt(2 * np.pi)) * np.exp( - (bins - mu)**2 / (2 * sigma**2) ), linewidth=2, color='r')\n",
    "plt.show()"
   ]
  }
 ],
 "metadata": {
  "kernelspec": {
   "display_name": "Python 3",
   "language": "python",
   "name": "python3"
  },
  "language_info": {
   "codemirror_mode": {
    "name": "ipython",
    "version": 3
   },
   "file_extension": ".py",
   "mimetype": "text/x-python",
   "name": "python",
   "nbconvert_exporter": "python",
   "pygments_lexer": "ipython3",
   "version": "3.6.7"
  }
 },
 "nbformat": 4,
 "nbformat_minor": 4
}
