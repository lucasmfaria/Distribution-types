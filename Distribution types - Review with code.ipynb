{
 "cells": [
  {
   "cell_type": "code",
   "execution_count": 1,
   "metadata": {},
   "outputs": [],
   "source": [
    "import pandas as pd\n",
    "import numpy as np\n",
    "import matplotlib.pyplot as plt\n",
    "import math\n",
    "from scipy.stats import binom"
   ]
  },
  {
   "cell_type": "markdown",
   "metadata": {},
   "source": [
    "# Binomial Distribution"
   ]
  },
  {
   "cell_type": "markdown",
   "metadata": {},
   "source": [
    "Mathematical Framework and variable definitions:\n",
    "- **n**: number of trials. Each trial has 2 events: **success** or **fail**.\n",
    "- **k**: number of succeeded trials within the total n of trials.\n",
    "- **X**: random variable of the number of succeeded trials.\n",
    "- **p**: percentage of success of each trial.\n",
    "- **P[X = k]**: probability of a random variable X being equal k.\n",
    "- **Sample Space = {0, 1, 2, 3, ..., n}**: there are n trials, however the possible values for the random variable X are within the range {0, 1, 2, 3, ..., n} (start from zero, because there is the possibility of not having any succeeded trial)."
   ]
  },
  {
   "cell_type": "markdown",
   "metadata": {},
   "source": [
    "The formula for the probability P[X = k] is shown below:"
   ]
  },
  {
   "cell_type": "markdown",
   "metadata": {},
   "source": [
    "\\begin{equation*}\n",
    "P[X = k]   = \\frac{n!}{k!(n-k)!} p^k (1-p)^{ n-k}\n",
    "\\end{equation*}"
   ]
  },
  {
   "cell_type": "markdown",
   "metadata": {},
   "source": [
    "Here we can see an example of a random binomial distribution using **n = 5**, **p = 0.8** and **2000000** (2e6) samples. There were a total of **2000000*5 = 10000000 _trials_**, however this means 2000000 samples drawn from the binomial distribution."
   ]
  },
  {
   "cell_type": "code",
   "execution_count": 2,
   "metadata": {},
   "outputs": [
    {
     "data": {
      "image/png": "[encoded data removed]",
      "text/plain": [
       "<Figure size 432x288 with 1 Axes>"
      ]
     },
     "metadata": {
      "needs_background": "light"
     },
     "output_type": "display_data"
    },
    {
     "name": "stdout",
     "output_type": "stream",
     "text": [
      "P[X = 0] = 0.00029\n",
      "P[X = 1] = 0.006333\n",
      "P[X = 2] = 0.0513475\n",
      "P[X = 3] = 0.2048995\n",
      "P[X = 4] = 0.4096885\n",
      "P[X = 5] = 0.3274415\n"
     ]
    }
   ],
   "source": [
    "n, p, n_samples = 5, 0.8, int(2e6)\n",
    "samples = np.random.binomial(n=n, p=p, size=n_samples)\n",
    "plt.hist(samples, bins=100)\n",
    "plt.show()\n",
    "totals = np.zeros(shape=(n+1))\n",
    "for k in range(n+1):\n",
    "    totals[k] = (samples == k).sum()\n",
    "total = totals.sum()\n",
    "for k in range(n+1):\n",
    "    print(\"P[X = {}] = {}\".format(k, totals[k]/total))"
   ]
  },
  {
   "cell_type": "markdown",
   "metadata": {},
   "source": [
    "Also, we can see the probabilities that resulted from the experiment. Using the formula we can see the expected results below and compare with the experiment results:"
   ]
  },
  {
   "cell_type": "code",
   "execution_count": 3,
   "metadata": {},
   "outputs": [
    {
     "name": "stdout",
     "output_type": "stream",
     "text": [
      "P[X = 0] = 0.00032\n"
     ]
    }
   ],
   "source": [
    "k=0\n",
    "print(\"P[X = {}] = {}\".format(k, round(binom.pmf(k=k, n=n, p=p), 7)))"
   ]
  },
  {
   "cell_type": "markdown",
   "metadata": {},
   "source": [
    "\\begin{equation*}\n",
    "P[X = 0]   = \\frac{5!}{0!(5-0)!} 0.8^0 (1-0.8)^{ 5-0} = 0.00032\n",
    "\\end{equation*}"
   ]
  },
  {
   "cell_type": "code",
   "execution_count": 4,
   "metadata": {},
   "outputs": [
    {
     "name": "stdout",
     "output_type": "stream",
     "text": [
      "P[X = 1] = 0.0064\n"
     ]
    }
   ],
   "source": [
    "k=1\n",
    "print(\"P[X = {}] = {}\".format(k, round(binom.pmf(k=k, n=n, p=p), 7)))"
   ]
  },
  {
   "cell_type": "markdown",
   "metadata": {},
   "source": [
    "\\begin{equation*}\n",
    "P[X = 1]   = \\frac{5!}{1!(5-1)!} 0.8^1 (1-0.8)^{ 5-1} = 0.0064\n",
    "\\end{equation*}"
   ]
  },
  {
   "cell_type": "code",
   "execution_count": 5,
   "metadata": {},
   "outputs": [
    {
     "name": "stdout",
     "output_type": "stream",
     "text": [
      "P[X = 2] = 0.0512\n"
     ]
    }
   ],
   "source": [
    "k=2\n",
    "print(\"P[X = {}] = {}\".format(k, round(binom.pmf(k=k, n=n, p=p), 7)))"
   ]
  },
  {
   "cell_type": "markdown",
   "metadata": {},
   "source": [
    "\\begin{equation*}\n",
    "P[X = 2]   = \\frac{5!}{2!(5-2)!} 0.8^2 (1-0.8)^{ 5-2} = 0.0512\n",
    "\\end{equation*}"
   ]
  },
  {
   "cell_type": "code",
   "execution_count": 6,
   "metadata": {},
   "outputs": [
    {
     "name": "stdout",
     "output_type": "stream",
     "text": [
      "P[X = 3] = 0.2048\n"
     ]
    }
   ],
   "source": [
    "k=3\n",
    "print(\"P[X = {}] = {}\".format(k, round(binom.pmf(k=k, n=n, p=p), 7)))"
   ]
  },
  {
   "cell_type": "markdown",
   "metadata": {},
   "source": [
    "\\begin{equation*}\n",
    "P[X = 3]   = \\frac{5!}{3!(5-3)!} 0.8^3 (1-0.8)^{ 5-3} = 0.2048\n",
    "\\end{equation*}"
   ]
  },
  {
   "cell_type": "code",
   "execution_count": 7,
   "metadata": {},
   "outputs": [
    {
     "name": "stdout",
     "output_type": "stream",
     "text": [
      "P[X = 4] = 0.4096\n"
     ]
    }
   ],
   "source": [
    "k=4\n",
    "print(\"P[X = {}] = {}\".format(k, round(binom.pmf(k=k, n=n, p=p), 7)))"
   ]
  },
  {
   "cell_type": "markdown",
   "metadata": {},
   "source": [
    "\\begin{equation*}\n",
    "P[X = 4]   = \\frac{5!}{4!(5-4)!} 0.8^4 (1-0.8)^{ 5-4} = 0.4096\n",
    "\\end{equation*}"
   ]
  },
  {
   "cell_type": "code",
   "execution_count": 8,
   "metadata": {},
   "outputs": [
    {
     "name": "stdout",
     "output_type": "stream",
     "text": [
      "P[X = 5] = 0.32768\n"
     ]
    }
   ],
   "source": [
    "k=5\n",
    "print(\"P[X = {}] = {}\".format(k, round(binom.pmf(k=k, n=n, p=p), 7)))"
   ]
  },
  {
   "cell_type": "markdown",
   "metadata": {},
   "source": [
    "\\begin{equation*}\n",
    "P[X = 5]   = \\frac{5!}{5!(5-5)!} 0.8^5 (1-0.8)^{ 5-5} = 0.32768\n",
    "\\end{equation*}"
   ]
  },
  {
   "cell_type": "markdown",
   "metadata": {},
   "source": [
    "# Bernoulli Distribution"
   ]
  },
  {
   "cell_type": "markdown",
   "metadata": {},
   "source": [
    "The Bernoulli Distribution is a special case of the Binomial Distribution: when **n = 1**. So the sample space is **{0, 1}**."
   ]
  },
  {
   "cell_type": "markdown",
   "metadata": {},
   "source": [
    "\\begin{equation*}\n",
    "P[X = k]   = p^k (1-p)^{ 1-k}\n",
    "\\end{equation*}"
   ]
  },
  {
   "cell_type": "markdown",
   "metadata": {},
   "source": [
    "Here we can see an example of a random Bernoulli distribution using **p = 0.5** (for example a coin toss) and **2000000** (2e6) samples. There were a total of **2000000 _trials_**, which is the number of samples drawn from the distribution."
   ]
  },
  {
   "cell_type": "code",
   "execution_count": 9,
   "metadata": {
    "scrolled": true
   },
   "outputs": [
    {
     "data": {
      "image/png": "[encoded data removed]",
      "text/plain": [
       "<Figure size 432x288 with 1 Axes>"
      ]
     },
     "metadata": {
      "needs_background": "light"
     },
     "output_type": "display_data"
    },
    {
     "name": "stdout",
     "output_type": "stream",
     "text": [
      "p[X = 0] = 0.500265\n",
      "p[X = 1] = 0.499735\n"
     ]
    }
   ],
   "source": [
    "n, p, n_samples = 1, 0.5, int(2e6)\n",
    "samples = np.random.binomial(n=n, p=p, size=n_samples)\n",
    "plt.hist(samples, bins=100)\n",
    "plt.show()\n",
    "totals = np.zeros(shape=(n+1))\n",
    "for k in range(n+1):\n",
    "    totals[k] = (samples == k).sum()\n",
    "total = totals.sum()\n",
    "for k in range(n+1):\n",
    "    print(\"p[X = {}] = {}\".format(k, totals[k]/total))"
   ]
  },
  {
   "cell_type": "code",
   "execution_count": 10,
   "metadata": {},
   "outputs": [
    {
     "name": "stdout",
     "output_type": "stream",
     "text": [
      "P[X = 0] = 0.5\n"
     ]
    }
   ],
   "source": [
    "k=0\n",
    "print(\"P[X = {}] = {}\".format(k, round(binom.pmf(k=k, n=n, p=p), 7)))"
   ]
  },
  {
   "cell_type": "markdown",
   "metadata": {},
   "source": [
    "\\begin{equation*}\n",
    "P[X = 0]   = 0.5^0 (0.5)^{ 1-0} = 0.5\n",
    "\\end{equation*}"
   ]
  },
  {
   "cell_type": "code",
   "execution_count": 11,
   "metadata": {},
   "outputs": [
    {
     "name": "stdout",
     "output_type": "stream",
     "text": [
      "P[X = 1] = 0.5\n"
     ]
    }
   ],
   "source": [
    "k=1\n",
    "print(\"P[X = {}] = {}\".format(k, round(binom.pmf(k=k, n=n, p=p), 7)))"
   ]
  },
  {
   "cell_type": "markdown",
   "metadata": {},
   "source": [
    "\\begin{equation*}\n",
    "P[X = 1]   = 0.5^1 (0.5)^{ 1-1} = 0.5\n",
    "\\end{equation*}"
   ]
  },
  {
   "cell_type": "markdown",
   "metadata": {},
   "source": [
    "# Normal Distribution"
   ]
  },
  {
   "cell_type": "code",
   "execution_count": 12,
   "metadata": {},
   "outputs": [],
   "source": [
    "mu, sigma = 0, 1\n",
    "samples = np.random.normal(loc=mu, scale=sigma, size=1000)"
   ]
  },
  {
   "cell_type": "code",
   "execution_count": 13,
   "metadata": {},
   "outputs": [
    {
     "data": {
      "image/png": "[encoded data removed]",
      "text/plain": [
       "<Figure size 432x288 with 1 Axes>"
      ]
     },
     "metadata": {
      "needs_background": "light"
     },
     "output_type": "display_data"
    }
   ],
   "source": [
    "count, bins, ignored = plt.hist(samples, 50, density=True)\n",
    "plt.plot(bins, 1/(sigma * np.sqrt(2 * np.pi)) * np.exp( - (bins - mu)**2 / (2 * sigma**2) ), linewidth=2, color='r')\n",
    "plt.show()"
   ]
  }
 ],
 "metadata": {
  "kernelspec": {
   "display_name": "Python 3",
   "language": "python",
   "name": "python3"
  },
  "language_info": {
   "codemirror_mode": {
    "name": "ipython",
    "version": 3
   },
   "file_extension": ".py",
   "mimetype": "text/x-python",
   "name": "python",
   "nbconvert_exporter": "python",
   "pygments_lexer": "ipython3",
   "version": "3.6.7"
  }
 },
 "nbformat": 4,
 "nbformat_minor": 4
}
