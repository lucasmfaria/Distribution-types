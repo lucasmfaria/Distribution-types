{
 "cells": [
  {
   "cell_type": "code",
   "execution_count": 1,
   "metadata": {},
   "outputs": [],
   "source": [
    "import pandas as pd\n",
    "import numpy as np\n",
    "import matplotlib.pyplot as plt\n",
    "import math\n",
    "from scipy.stats import binom, poisson"
   ]
  },
  {
   "cell_type": "markdown",
   "metadata": {},
   "source": [
    "# `Summary`"
   ]
  },
  {
   "cell_type": "markdown",
   "metadata": {},
   "source": [
    "### Discrete Distributions:\n",
    "1. [Binomial Distribution](#Binomial-Distribution)\n",
    "2. [Bernoulli Distribution](#Bernoulli-Distribution)\n",
    "3. [Poisson Distribution](#Poisson-Distribution)\n",
    "\n",
    "### Continuous Distributions:\n",
    "1. [Normal Distribution](#Normal-Distribution)\n",
    "\n",
    "***"
   ]
  },
  {
   "cell_type": "markdown",
   "metadata": {},
   "source": [
    "# `Discrete Distributions`\n",
    "\n",
    "## Binomial Distribution\n",
    "\n",
    "#### Mathematical Framework and variable definitions:\n",
    "- **n**: number of trials. Each trial has 2 events: **success** or **fail** (also called **Bernoulli Trial**).\n",
    "- **k**: number of succeeded trials within the total n of trials.\n",
    "- **X**: random variable of the number of succeeded trials.\n",
    "- **p**: percentage of success of each trial.\n",
    "- **P[X = k]**: probability of a random variable X being equal k.\n",
    "- **Sample Space = {0, 1, 2, 3, ..., n}**: there are n trials, however the possible values for the random variable X are within the range {0, 1, 2, 3, ..., n} (start from zero, because there is the possibility of not having any succeeded trial).\n",
    "\n",
    "The formula for the probability P[X = k] is shown below:\n",
    "\n",
    "\\begin{equation*}\n",
    "P[X = k]   = \\frac{n!}{k!(n-k)!} p^k (1-p)^{ n-k}\n",
    "\\end{equation*}\n",
    "\n",
    "#### Experiment:\n",
    "\n",
    "Here we can see an example of a random binomial distribution using **n = 5**, **p = 0.8** and **2000000** (2e6) samples. There were a total of **2000000*5 = 10000000 _trials_**, however this means 2000000 samples drawn from the binomial distribution."
   ]
  },
  {
   "cell_type": "code",
   "execution_count": 2,
   "metadata": {},
   "outputs": [
    {
     "data": {
      "image/png": "[encoded data removed]",
      "text/plain": [
       "<Figure size 432x288 with 1 Axes>"
      ]
     },
     "metadata": {
      "needs_background": "light"
     },
     "output_type": "display_data"
    },
    {
     "name": "stdout",
     "output_type": "stream",
     "text": [
      "P[X = 0] = 0.0296%\n",
      "P[X = 1] = 0.6543%\n",
      "P[X = 2] = 5.1101%\n",
      "P[X = 3] = 20.4596%\n",
      "P[X = 4] = 40.9898%\n",
      "P[X = 5] = 32.7565%\n"
     ]
    }
   ],
   "source": [
    "n, p, n_samples = 5, 0.8, int(2e6)\n",
    "samples = np.random.binomial(n=n, p=p, size=n_samples)\n",
    "plt.hist(samples, bins=100)\n",
    "plt.show()\n",
    "totals = np.zeros(shape=(n+1))\n",
    "for k in range(n+1):\n",
    "    totals[k] = (samples == k).sum()\n",
    "total = totals.sum()\n",
    "for k in range(n+1):\n",
    "    print(\"P[X = {}] = {:.4%}\".format(k, totals[k]/total))"
   ]
  },
  {
   "cell_type": "markdown",
   "metadata": {},
   "source": [
    "Also, we can see the probabilities that resulted from the experiment. Using the formula we can see the expected results below and compare with the experiment results:"
   ]
  },
  {
   "cell_type": "code",
   "execution_count": 3,
   "metadata": {},
   "outputs": [
    {
     "name": "stdout",
     "output_type": "stream",
     "text": [
      "P[X = 0] = 0.0320%\n",
      "P[X = 1] = 0.6400%\n",
      "P[X = 2] = 5.1200%\n",
      "P[X = 3] = 20.4800%\n",
      "P[X = 4] = 40.9600%\n",
      "P[X = 5] = 32.7680%\n"
     ]
    }
   ],
   "source": [
    "for k in range(n+1):\n",
    "    print(\"P[X = {}] = {:.4%}\".format(k, round(binom.pmf(k=k, n=n, p=p), 7)))"
   ]
  },
  {
   "cell_type": "markdown",
   "metadata": {},
   "source": [
    "Visual example of the formula with k = 0:\n",
    "\n",
    "\\begin{equation*}\n",
    "P[X = 0]   = \\frac{5!}{0!(5-0)!} 0.8^0 (1-0.8)^{ 5-0} = 0.032/100\n",
    "\\end{equation*}"
   ]
  },
  {
   "cell_type": "markdown",
   "metadata": {},
   "source": [
    "## Bernoulli Distribution\n",
    "\n",
    "The Bernoulli Distribution is a special case of the Binomial Distribution: when **n = 1**. So the sample space is **{0, 1}**.\n",
    "\n",
    "\\begin{equation*}\n",
    "P[X = k]   = p^k (1-p)^{ 1-k}\n",
    "\\end{equation*}\n",
    "\n",
    "#### Experiment:\n",
    "\n",
    "Here we can see an example of a random Bernoulli distribution using **p = 0.5** (for example a coin toss) and **2000000** (2e6) samples. There were a total of **2000000 _trials_**, which is the number of samples drawn from the distribution."
   ]
  },
  {
   "cell_type": "code",
   "execution_count": 4,
   "metadata": {
    "scrolled": true
   },
   "outputs": [
    {
     "data": {
      "image/png": "[encoded data removed]",
      "text/plain": [
       "<Figure size 432x288 with 1 Axes>"
      ]
     },
     "metadata": {
      "needs_background": "light"
     },
     "output_type": "display_data"
    },
    {
     "name": "stdout",
     "output_type": "stream",
     "text": [
      "p[X = 0] = 50.0278%\n",
      "p[X = 1] = 49.9721%\n"
     ]
    }
   ],
   "source": [
    "n, p, n_samples = 1, 0.5, int(2e6)\n",
    "samples = np.random.binomial(n=n, p=p, size=n_samples)\n",
    "plt.hist(samples, bins=100)\n",
    "plt.show()\n",
    "totals = np.zeros(shape=(n+1))\n",
    "for k in range(n+1):\n",
    "    totals[k] = (samples == k).sum()\n",
    "total = totals.sum()\n",
    "for k in range(n+1):\n",
    "    print(\"p[X = {}] = {:.4%}\".format(k, totals[k]/total))"
   ]
  },
  {
   "cell_type": "code",
   "execution_count": 5,
   "metadata": {},
   "outputs": [
    {
     "name": "stdout",
     "output_type": "stream",
     "text": [
      "P[X = 0] = 50.0000%\n",
      "P[X = 1] = 50.0000%\n"
     ]
    }
   ],
   "source": [
    "for k in range(n+1):\n",
    "    print(\"P[X = {}] = {:.4%}\".format(k, round(binom.pmf(k=k, n=n, p=p), 7)))"
   ]
  },
  {
   "cell_type": "markdown",
   "metadata": {},
   "source": [
    "Visual example of the formula with k = 0:\n",
    "\\begin{equation*}\n",
    "P[X = 0]   = 0.5^0 (0.5)^{ 1-0} = 50/100\n",
    "\\end{equation*}"
   ]
  },
  {
   "cell_type": "markdown",
   "metadata": {},
   "source": [
    "## Poisson Distribution\n",
    "\n",
    "#### Mathematical Framework and variable definitions:\n",
    "\n",
    "It is a model used for **discrete series of events** when we know the **average time, area, volume** between the events. More generally, it can be used when we know the **average occurrence rate of the events per interval**, but the **exact unit of occurrence within the interval is random**.\n",
    "\n",
    "- **λ**: average number of events in the interval.\n",
    "- **k**: number of occurrences within the interval.\n",
    "- **X**: random variable of the number of occurrences within the interval.\n",
    "- **P[X = k]**: probability of a random variable X being equal k.\n",
    "- **Sample Space = {0, 1, 2, 3, ..., ∞}**: the random variable X can have an infinite number of events.\n",
    "\n",
    "Assumptions:\n",
    "\n",
    "- Events are independent of each other. The occurrence of one event does not affect the probability another event will occur.\n",
    "- The average rate (events per unit) is constant.\n",
    "- Two events cannot occur at the same time (or same unit - area, volume).\n",
    "\n",
    "The formula for the probability P[X = k] is shown below:\n",
    "\n",
    "\\begin{equation*}\n",
    "P[X = k]   = e^{-λ} \\frac{λ^{k}}{k!}\n",
    "\\end{equation*}\n",
    "\n",
    "#### Experiment:\n",
    "\n",
    "Here we can see an example of a Poisson distribution using **λ = 10** (for example 10 car accidents within 2 hours), and **2000000** (2e6) samples."
   ]
  },
  {
   "cell_type": "code",
   "execution_count": 6,
   "metadata": {},
   "outputs": [
    {
     "data": {
      "image/png": "[encoded data removed]",
      "text/plain": [
       "<Figure size 432x288 with 1 Axes>"
      ]
     },
     "metadata": {
      "needs_background": "light"
     },
     "output_type": "display_data"
    },
    {
     "name": "stdout",
     "output_type": "stream",
     "text": [
      "P[X = 0] = 0.0048%\n",
      "P[X = 1] = 0.0441%\n",
      "P[X = 2] = 0.2297%\n",
      "P[X = 3] = 0.7572%\n",
      "P[X = 4] = 1.8899%\n",
      "P[X = 5] = 3.8113%\n",
      "P[X = 6] = 6.3315%\n",
      "P[X = 7] = 9.0501%\n",
      "P[X = 8] = 11.3195%\n",
      "P[X = 9] = 12.5185%\n",
      "P[X = 10] = 12.5437%\n",
      "P[X = 11] = 11.4541%\n",
      "P[X = 12] = 9.4959%\n",
      "P[X = 13] = 7.2959%\n",
      "P[X = 14] = 5.2168%\n",
      "P[X = 15] = 3.4985%\n",
      "P[X = 16] = 2.1799%\n",
      "P[X = 17] = 1.2780%\n",
      "P[X = 18] = 0.7096%\n",
      "P[X = 19] = 0.3710%\n"
     ]
    }
   ],
   "source": [
    "lam, n_samples = 10, int(2e6)\n",
    "samples = np.random.poisson(lam=lam, size=n_samples)\n",
    "plt.hist(samples, bins=100)\n",
    "plt.show()\n",
    "totals = np.zeros(shape=(2*lam))\n",
    "for k in range(2*lam):\n",
    "    totals[k] = (samples == k).sum()\n",
    "total = totals.sum()\n",
    "for k in range(2*lam):\n",
    "    print(\"P[X = {}] = {:.4%}\".format(k, totals[k]/total))"
   ]
  },
  {
   "cell_type": "markdown",
   "metadata": {},
   "source": [
    "Also, we can see the probabilities that resulted from the experiment. Using the formula we can see the expected results below and compare with the experiment results:"
   ]
  },
  {
   "cell_type": "code",
   "execution_count": 7,
   "metadata": {},
   "outputs": [
    {
     "name": "stdout",
     "output_type": "stream",
     "text": [
      "P[X = 0] = 0.0045%\n",
      "P[X = 1] = 0.0454%\n",
      "P[X = 2] = 0.2270%\n",
      "P[X = 3] = 0.7567%\n",
      "P[X = 4] = 1.8917%\n",
      "P[X = 5] = 3.7833%\n",
      "P[X = 6] = 6.3056%\n",
      "P[X = 7] = 9.0079%\n",
      "P[X = 8] = 11.2599%\n",
      "P[X = 9] = 12.5110%\n",
      "P[X = 10] = 12.5110%\n",
      "P[X = 11] = 11.3736%\n",
      "P[X = 12] = 9.4780%\n",
      "P[X = 13] = 7.2908%\n",
      "P[X = 14] = 5.2077%\n",
      "P[X = 15] = 3.4718%\n",
      "P[X = 16] = 2.1699%\n",
      "P[X = 17] = 1.2764%\n",
      "P[X = 18] = 0.7091%\n",
      "P[X = 19] = 0.3732%\n"
     ]
    }
   ],
   "source": [
    "for k in range(2*lam):\n",
    "    print(\"P[X = {}] = {:.4%}\".format(k, round(poisson.pmf(k=k, mu=lam), 7)))"
   ]
  },
  {
   "cell_type": "markdown",
   "metadata": {},
   "source": [
    "Visual example of the formula with k = 0:\n",
    "\n",
    "\\begin{equation*}\n",
    "P[X = 0]   = e^{-10} \\frac{λ^{0}}{0!} = 0.0045/100\n",
    "\\end{equation*}\n",
    "\n",
    "The Poisson Distribution is a special case from the Binomial Distribution: with **n (number of Bernoulli Trials) -> ∞**. We can see a Poisson Process as an **infinite number of Bernoulli Trials within each interval**. For example:\n",
    "\n",
    "- Time interval of 60 minutes: there is an infinite number of succeded or failed events (car accidents) within 60 minutes, however we only know the average number of accidents.\n",
    "- Area interval of 1m²: there is an infinite number of succeded or failed events (holes/problems) within the area, however we only know the average number of holes/problems.\n",
    "\n",
    "More information: https://towardsdatascience.com/the-poisson-distribution-and-poisson-process-explained-4e2cb17d459"
   ]
  },
  {
   "cell_type": "markdown",
   "metadata": {},
   "source": [
    "***\n",
    "\n",
    "# `Continuous Distributions`\n",
    "\n",
    "## Normal Distribution"
   ]
  },
  {
   "cell_type": "code",
   "execution_count": 8,
   "metadata": {},
   "outputs": [
    {
     "data": {
      "image/png": "[encoded data removed]",
      "text/plain": [
       "<Figure size 432x288 with 1 Axes>"
      ]
     },
     "metadata": {
      "needs_background": "light"
     },
     "output_type": "display_data"
    }
   ],
   "source": [
    "mu, sigma, n_samples = 0, 1, int(2e4)\n",
    "samples = np.random.normal(loc=mu, scale=sigma, size=n_samples)\n",
    "count, bins, ignored = plt.hist(samples, bins=100, density=True)\n",
    "plt.plot(bins, 1/(sigma * np.sqrt(2 * np.pi)) * np.exp( - (bins - mu)**2 / (2 * sigma**2) ), linewidth=2, color='r')\n",
    "plt.show()"
   ]
  }
 ],
 "metadata": {
  "kernelspec": {
   "display_name": "Python 3",
   "language": "python",
   "name": "python3"
  },
  "language_info": {
   "codemirror_mode": {
    "name": "ipython",
    "version": 3
   },
   "file_extension": ".py",
   "mimetype": "text/x-python",
   "name": "python",
   "nbconvert_exporter": "python",
   "pygments_lexer": "ipython3",
   "version": "3.6.7"
  }
 },
 "nbformat": 4,
 "nbformat_minor": 4
}
